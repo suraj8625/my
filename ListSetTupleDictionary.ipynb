{
  "nbformat": 4,
  "nbformat_minor": 0,
  "metadata": {
    "colab": {
      "name": "ListSetTupleDictionary.ipynb",
      "provenance": [],
      "collapsed_sections": [],
      "authorship_tag": "ABX9TyMBL3hAatyRFRN59o7lFNQm",
      "include_colab_link": true
    },
    "kernelspec": {
      "name": "python3",
      "display_name": "Python 3"
    }
  },
  "cells": [
    {
      "cell_type": "markdown",
      "metadata": {
        "id": "view-in-github",
        "colab_type": "text"
      },
      "source": [
        "<a href=\"https://colab.research.google.com/github/suraj8625/my/blob/master/ListSetTupleDictionary.ipynb\" target=\"_parent\"><img src=\"https://colab.research.google.com/assets/colab-badge.svg\" alt=\"Open In Colab\"/></a>"
      ]
    },
    {
      "cell_type": "code",
      "metadata": {
        "id": "vvm7lpsPs6Uo",
        "colab_type": "code",
        "outputId": "9251f52f-958b-45ac-bb4b-e4484c86b772",
        "colab": {
          "base_uri": "https://localhost:8080/",
          "height": 151
        }
      },
      "source": [
        "nums=[25,41,56,23,14,98]\n",
        "print(\"list\",nums)\n",
        "nums.append(22)\n",
        "print(\"updated list\",nums)\n",
        "a=nums.count(41)\n",
        "print(\"count of list elements\",a)\n",
        "a=nums.index(41)\n",
        "print(\"index of given no\",a)\n",
        "nums.sort()\n",
        "print(\"sort list\",nums)\n",
        "nums.reverse()\n",
        "print(\"reverse list\",nums)\n",
        "nums.insert(2,58)\n",
        "print(\"insert element\",nums)\n",
        "a=nums.pop()\n",
        "print(\"pop element\",a)\n"
      ],
      "execution_count": 0,
      "outputs": [
        {
          "output_type": "stream",
          "text": [
            "list [25, 41, 56, 23, 14, 98]\n",
            "updated list [25, 41, 56, 23, 14, 98, 22]\n",
            "count of list elements 1\n",
            "index of given no 1\n",
            "sort list [14, 22, 23, 25, 41, 56, 98]\n",
            "reverse list [98, 56, 41, 25, 23, 22, 14]\n",
            "insert element [98, 56, 58, 41, 25, 23, 22, 14]\n",
            "pop element 14\n"
          ],
          "name": "stdout"
        }
      ]
    },
    {
      "cell_type": "code",
      "metadata": {
        "id": "pIwq-5OSuF67",
        "colab_type": "code",
        "outputId": "1f5af428-de7e-4237-c9b8-4ec2e651691f",
        "colab": {
          "base_uri": "https://localhost:8080/",
          "height": 84
        }
      },
      "source": [
        "s={22,95,14,21,5,21,58}\n",
        "print(s)\n",
        "s.add(2)\n",
        "print(s)\n",
        "s.pop()\n",
        "print(s)\n",
        "s.clear()\n",
        "print(s)"
      ],
      "execution_count": 0,
      "outputs": [
        {
          "output_type": "stream",
          "text": [
            "{5, 14, 21, 22, 58, 95}\n",
            "{2, 5, 14, 21, 22, 58, 95}\n",
            "{5, 14, 21, 22, 58, 95}\n",
            "set()\n"
          ],
          "name": "stdout"
        }
      ]
    },
    {
      "cell_type": "code",
      "metadata": {
        "id": "xknGpCYOuSGh",
        "colab_type": "code",
        "outputId": "03f7e00f-06f5-4bd3-fb86-3c7b01f27a87",
        "colab": {
          "base_uri": "https://localhost:8080/",
          "height": 67
        }
      },
      "source": [
        "tup=(21,36,14,25,14)\n",
        "print(tup)\n",
        "a=tup.count(14)\n",
        "print(\"count of no is\",a)\n",
        "a=tup.index(36)\n",
        "print(\"index of no is\",a)"
      ],
      "execution_count": 0,
      "outputs": [
        {
          "output_type": "stream",
          "text": [
            "(21, 36, 14, 25, 14)\n",
            "count of no is 2\n",
            "index of no is 1\n"
          ],
          "name": "stdout"
        }
      ]
    },
    {
      "cell_type": "code",
      "metadata": {
        "id": "gQ_pGYsyubv0",
        "colab_type": "code",
        "outputId": "48c888a7-22de-4f79-ab4c-cc3408f171e2",
        "colab": {
          "base_uri": "https://localhost:8080/",
          "height": 151
        }
      },
      "source": [
        "d={1:'suraj',2:'nawghare',3:'harsh',4:'raju'}\n",
        "print(d)\n",
        "print(d[2])\n",
        "print(d.get(1,'notfound'))\n",
        "print(d.get(5,'notfound'))\n",
        "d.pop(3)\n",
        "print(d)\n",
        "\n",
        "keys={'suraj','nawghare','raju','sham'}\n",
        "values={'java','python','c++','js'}\n",
        "di=dict(zip(keys,values))\n",
        "print(di)\n",
        "di['monu']='c'\n",
        "print(di)\n",
        "del di['raju']\n",
        "print(di)\n",
        "\n"
      ],
      "execution_count": 0,
      "outputs": [
        {
          "output_type": "stream",
          "text": [
            "{1: 'suraj', 2: 'nawghare', 3: 'harsh', 4: 'raju'}\n",
            "nawghare\n",
            "suraj\n",
            "notfound\n",
            "{1: 'suraj', 2: 'nawghare', 4: 'raju'}\n",
            "{'suraj': 'python', 'raju': 'c++', 'sham': 'java', 'nawghare': 'js'}\n",
            "{'suraj': 'python', 'raju': 'c++', 'sham': 'java', 'nawghare': 'js', 'monu': 'c'}\n",
            "{'suraj': 'python', 'sham': 'java', 'nawghare': 'js', 'monu': 'c'}\n"
          ],
          "name": "stdout"
        }
      ]
    }
  ]
}